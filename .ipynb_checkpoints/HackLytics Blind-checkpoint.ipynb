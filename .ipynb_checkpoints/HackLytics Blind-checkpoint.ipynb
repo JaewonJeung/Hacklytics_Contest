{
 "cells": [
  {
   "cell_type": "code",
   "execution_count": 12,
   "metadata": {},
   "outputs": [],
   "source": [
    "import pandas as pd"
   ]
  },
  {
   "cell_type": "code",
   "execution_count": 13,
   "metadata": {},
   "outputs": [],
   "source": [
    "data_location = \"C:/Users/Raejae/Documents/HackLytics/Hacklytics_Contest/Sandy_Springs_Police_Department - Sandy_Springs_Police_Department.csv\""
   ]
  },
  {
   "cell_type": "code",
   "execution_count": 14,
   "metadata": {},
   "outputs": [],
   "source": [
    "data = pd.read_csv(data_location, encoding ='utf-8')"
   ]
  },
  {
   "cell_type": "code",
   "execution_count": 15,
   "metadata": {},
   "outputs": [
    {
     "name": "stdout",
     "output_type": "stream",
     "text": [
      "       incident_id  case_number       incident_datetime  \\\n",
      "0        952728267   2020000781   01/17/2020 1:30:29 PM   \n",
      "1        952728268   2020000768  01/17/2020 12:10:00 PM   \n",
      "2        952704703   2020000743   01/17/2020 2:14:38 AM   \n",
      "3        952685191   2020000738   01/16/2020 8:30:22 PM   \n",
      "4        952704706   2020000729   01/16/2020 4:57:30 PM   \n",
      "...            ...          ...                     ...   \n",
      "83538    103898924   2010000008   01/01/2010 1:47:00 AM   \n",
      "83539    103898697   2010006809   01/01/2010 1:46:10 AM   \n",
      "83540    103898661   2010000032   01/01/2010 1:41:51 AM   \n",
      "83541    103898894   2010000003   01/01/2010 1:15:00 AM   \n",
      "83542    103898883   2010000002   01/01/2010 1:05:48 AM   \n",
      "\n",
      "                       incident_type_primary            incident_description  \\\n",
      "0                [SSPD]-LARCENY-FROM VEHICLE          LARCENY - FROM VEHICLE   \n",
      "1            [SSPD]-LARCENY - OTHER OFFENSES        LARCENY - OTHER OFFENSES   \n",
      "2                       [SSPD]-DUI - ALCOHOL                   DUI - ALCOHOL   \n",
      "3                    [SSPD]-DOMESTIC DISPUTE                DOMESTIC DISPUTE   \n",
      "4                         [SSPD]-HIT AND RUN                     HIT AND RUN   \n",
      "...                                      ...                             ...   \n",
      "83538              [SSPD]-DISORDERLY CONDUCT              DISORDERLY CONDUCT   \n",
      "83539     [SSPD]-FRAUDULENT ACTIVITY - OTHER     FRAUDULENT ACTIVITY - OTHER   \n",
      "83540  [SSPD]-STOLEN MOTOR VEHICLE RECOVERED  STOLEN MOTOR VEHICLE RECOVERED   \n",
      "83541                      [SSPD]-DUI ARREST                      DUI ARREST   \n",
      "83542                     [SSPD]-HIT AND RUN                     HIT AND RUN   \n",
      "\n",
      "       clearance_type                               address_1  address_2  \\\n",
      "0                 NaN              6400 Block POWERS FERRY RD        NaN   \n",
      "1                 NaN              1100 Block PERIMETER CTR W        NaN   \n",
      "2                 NaN                400 Block & WINDSOR PKWY        NaN   \n",
      "3                 NaN                  700 Block JEFFERSON DR        NaN   \n",
      "4                 NaN                200 Block & GLENRIDGE DR        NaN   \n",
      "...               ...                                     ...        ...   \n",
      "83538             NaN                   5800 Block ROSWELL RD        NaN   \n",
      "83539             NaN                   5800 Block ROSWELL RD        NaN   \n",
      "83540             NaN               3800 Block TREE LODGE PKY        NaN   \n",
      "83541             NaN         I-285EASTBOUND & MT. VERNON HWY        NaN   \n",
      "83542             NaN  5600 Block ROSWELL RD & LAKE PLACID DR        NaN   \n",
      "\n",
      "                city state  ... country   latitude  longitude  \\\n",
      "0      SANDY SPRINGS    GA  ...     NaN  33.903192 -84.435246   \n",
      "1      SANDY SPRINGS    GA  ...     NaN  33.930031 -84.351129   \n",
      "2      SANDY SPRINGS    GA  ...     NaN  33.895054 -84.364235   \n",
      "3      SANDY SPRINGS    GA  ...     NaN  33.967122 -84.357805   \n",
      "4      SANDY SPRINGS    GA  ...     NaN  33.910091 -84.361732   \n",
      "...              ...   ...  ...     ...        ...        ...   \n",
      "83538  SANDY SPRINGS    GA  ...     NaN  33.914700 -84.379760   \n",
      "83539  SANDY SPRINGS    GA  ...     NaN  33.915937 -84.379522   \n",
      "83540  SANDY SPRINGS    GA  ...     NaN  33.964491 -84.353169   \n",
      "83541  SANDY SPRINGS    GA  ...     NaN  33.927840 -84.364428   \n",
      "83542  SANDY SPRINGS    GA  ...     NaN  33.908928 -84.378717   \n",
      "\n",
      "                   created_at              updated_at  \\\n",
      "0      01/17/2020 10:37:53 PM  01/17/2020 11:39:10 PM   \n",
      "1      01/17/2020 10:37:53 PM  01/17/2020 11:39:10 PM   \n",
      "2       01/17/2020 2:38:41 PM  01/17/2020 11:39:09 PM   \n",
      "3       01/17/2020 7:38:14 AM  01/17/2020 11:39:08 PM   \n",
      "4       01/17/2020 2:38:41 PM  01/17/2020 11:39:07 PM   \n",
      "...                       ...                     ...   \n",
      "83538   03/21/2012 2:58:11 AM   03/21/2012 3:18:59 AM   \n",
      "83539   03/21/2012 2:57:47 AM   03/21/2012 3:18:39 AM   \n",
      "83540   03/21/2012 2:57:47 AM   03/21/2012 4:02:19 AM   \n",
      "83541   03/21/2012 2:58:11 AM   03/21/2012 3:18:53 AM   \n",
      "83542   03/21/2012 2:58:11 AM   03/21/2012 3:18:52 AM   \n",
      "\n",
      "                                           location hour_of_day  day_of_week  \\\n",
      "0      POINT (-84.43524649609589 33.90319187235206)          13       Friday   \n",
      "1      POINT (-84.35112853386204 33.93003140731569)          12       Friday   \n",
      "2       POINT (-84.3642353179997 33.89505417513069)           2       Friday   \n",
      "3      POINT (-84.35780518461924 33.96712149775683)          20     Thursday   \n",
      "4       POINT (-84.3617320007644 33.91009075598981)          16     Thursday   \n",
      "...                                             ...         ...          ...   \n",
      "83538                     POINT (-84.37976 33.9147)           1       Friday   \n",
      "83539                  POINT (-84.379522 33.915937)          13       Friday   \n",
      "83540                  POINT (-84.353169 33.964491)          13       Friday   \n",
      "83541                   POINT (-84.364428 33.92784)           1       Friday   \n",
      "83542                  POINT (-84.378717 33.908928)           1       Friday   \n",
      "\n",
      "      parent_incident_type Beats Shapes  \n",
      "0       Theft from Vehicle     212688.0  \n",
      "1                    Theft     212689.0  \n",
      "2                  Traffic     212685.0  \n",
      "3           Family Offense     212686.0  \n",
      "4                  Traffic     212687.0  \n",
      "...                    ...          ...  \n",
      "83538             Disorder     212683.0  \n",
      "83539                Other     212683.0  \n",
      "83540     Vehicle Recovery     212686.0  \n",
      "83541              Traffic     212689.0  \n",
      "83542              Traffic     212688.0  \n",
      "\n",
      "[83543 rows x 21 columns]\n"
     ]
    }
   ],
   "source": [
    "data.head()"
   ]
  },
  {
   "cell_type": "code",
   "execution_count": null,
   "metadata": {},
   "outputs": [],
   "source": []
  }
 ],
 "metadata": {
  "kernelspec": {
   "display_name": "Python 3",
   "language": "python",
   "name": "python3"
  },
  "language_info": {
   "codemirror_mode": {
    "name": "ipython",
    "version": 3
   },
   "file_extension": ".py",
   "mimetype": "text/x-python",
   "name": "python",
   "nbconvert_exporter": "python",
   "pygments_lexer": "ipython3",
   "version": "3.7.4"
  }
 },
 "nbformat": 4,
 "nbformat_minor": 2
}
